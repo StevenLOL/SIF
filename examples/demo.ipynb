{
 "cells": [
  {
   "cell_type": "code",
   "execution_count": 1,
   "metadata": {
    "collapsed": false
   },
   "outputs": [
    {
     "name": "stdout",
     "output_type": "stream",
     "text": [
      "Couldn't import dot_parser, loading of dot files will not be possible.\n"
     ]
    },
    {
     "name": "stderr",
     "output_type": "stream",
     "text": [
      "Using gpu device 0: GeForce GTX 1080 (CNMeM is disabled, cuDNN 5103)\n",
      "/usr/local/lib/python2.7/dist-packages/theano/sandbox/cuda/__init__.py:600: UserWarning: Your cuDNN version is more recent than the one Theano officially supports. If you see any problems, try updating Theano or downgrading cuDNN to version 5.\n",
      "  warnings.warn(warn)\n"
     ]
    }
   ],
   "source": [
    "import sys\n",
    "\n",
    "import data_io, params, SIF_embedding\n",
    "\n",
    "# input\n",
    "wordfile = '../data/glove.840B.300d.txt' # word vector file, can be downloaded from GloVe website\n",
    "weightfile = '../auxiliary_data/enwiki_vocab_min200.txt' # each line is a word and its frequency\n",
    "weightpara = 1e-3 # the parameter in the SIF weighting scheme, usually in the range [3e-5, 3e-3]\n",
    "rmpc = 1 # number of principal components to remove in SIF weighting scheme\n",
    "sentiment_file = '../data/sentiment-test' # sentiment data file\n",
    "\n"
   ]
  },
  {
   "cell_type": "code",
   "execution_count": 2,
   "metadata": {
    "collapsed": false
   },
   "outputs": [
    {
     "name": "stdout",
     "output_type": "stream",
     "text": [
      "the 0 300 0.000134944915771\n",
      "bec 50000 300 4.9144051075\n",
      "capron 100000 300 5.24515986443\n",
      "cryogenics 150000 300 4.8557510376\n",
      "naadam 200000 300 5.58297681808\n",
      "afterellen.com 250000 300 4.82243990898\n",
      "tanke 300000 300 5.98466491699\n",
      "hla-a 350000 300 4.88032817841\n"
     ]
    }
   ],
   "source": [
    "# load word vectors\n",
    "\n",
    "\n",
    "#400K words\n",
    "\n",
    "(words, We) = data_io.getWordmap(wordfile)\n",
    "\n",
    "\n",
    "# load word local weights\n",
    "word2weight = data_io.getWordWeight(weightfile, weightpara) # word2weight['str'] is the weight for the word 'str'\n",
    "\n",
    "\n",
    "#get word weights defaut is 1.0\n",
    "\n",
    "weight4ind = data_io.getWeight(words, word2weight) # weight4ind[i] is the weight for the i-th word\n"
   ]
  },
  {
   "cell_type": "code",
   "execution_count": 10,
   "metadata": {
    "collapsed": false
   },
   "outputs": [
    {
     "name": "stdout",
     "output_type": "stream",
     "text": [
      "400000\n",
      "biennials 130852\n"
     ]
    }
   ],
   "source": [
    "#words   is word2id\n",
    "print len(words)\n",
    "for w in words:\n",
    "    print w,words[w]\n",
    "    break"
   ]
  },
  {
   "cell_type": "code",
   "execution_count": 9,
   "metadata": {
    "collapsed": false
   },
   "outputs": [
    {
     "name": "stdout",
     "output_type": "stream",
     "text": [
      "188033\n",
      "biennials 0.999905006978\n"
     ]
    }
   ],
   "source": [
    "print len(word2weight)\n",
    "\n",
    "for k in word2weight:\n",
    "    print k,word2weight[k]\n",
    "    break"
   ]
  },
  {
   "cell_type": "code",
   "execution_count": null,
   "metadata": {
    "collapsed": true
   },
   "outputs": [],
   "source": []
  },
  {
   "cell_type": "code",
   "execution_count": 11,
   "metadata": {
    "collapsed": false
   },
   "outputs": [
    {
     "name": "stdout",
     "output_type": "stream",
     "text": [
      "400000\n",
      "400000\n",
      "0 0.0203786674926\n"
     ]
    }
   ],
   "source": [
    "print len(words)\n",
    "print len(weight4ind)\n",
    "for k in weight4ind:\n",
    "    print k,weight4ind[k]\n",
    "    break\n"
   ]
  },
  {
   "cell_type": "code",
   "execution_count": 12,
   "metadata": {
    "collapsed": false
   },
   "outputs": [
    {
     "name": "stdout",
     "output_type": "stream",
     "text": [
      "../data/sentiment-test\n"
     ]
    }
   ],
   "source": [
    "print sentiment_file"
   ]
  },
  {
   "cell_type": "code",
   "execution_count": 17,
   "metadata": {
    "collapsed": false
   },
   "outputs": [
    {
     "name": "stdout",
     "output_type": "stream",
     "text": [
      "56\n",
      "[13119 68187     3  6152     5 13009     2     0     0     0     0     0\n",
      "     0     0     0     0     0     0     0     0     0     0     0     0\n",
      "     0     0     0     0     0     0     0     0     0     0     0     0\n",
      "     0     0     0     0     0     0     0     0     0     0     0     0\n",
      "     0     0     0     0     0     0     0     0]\n",
      "[ 1.  1.  1.  1.  1.  1.  1.  0.  0.  0.  0.  0.  0.  0.  0.  0.  0.  0.\n",
      "  0.  0.  0.  0.  0.  0.  0.  0.  0.  0.  0.  0.  0.  0.  0.  0.  0.  0.\n",
      "  0.  0.  0.  0.  0.  0.  0.  0.  0.  0.  0.  0.  0.  0.  0.  0.  0.  0.\n",
      "  0.  0.]\n",
      "0\n"
     ]
    }
   ],
   "source": [
    "# load sentences (here use sentiment data as an example)\n",
    "x, m, _ = data_io.sentiment2idx(sentiment_file, words) # x is the array of word indices, m is the binary mask indicating whether there is a word in that location\n",
    "print len(x[0])\n",
    "print x[0]\n",
    "print m[0]\n",
    "print _[0]"
   ]
  },
  {
   "cell_type": "code",
   "execution_count": 18,
   "metadata": {
    "collapsed": true
   },
   "outputs": [],
   "source": [
    "w = data_io.seq2weight(x, m, weight4ind) # get word weights"
   ]
  },
  {
   "cell_type": "code",
   "execution_count": 30,
   "metadata": {
    "collapsed": false
   },
   "outputs": [
    {
     "name": "stdout",
     "output_type": "stream",
     "text": [
      "<type 'numpy.ndarray'> [ 0.99857903  0.99982178  0.03842551  0.97840983  0.0497482   0.99050218\n",
      "  1.          0.          0.          0.          0.          0.          0.\n",
      "  0.          0.          0.          0.          0.          0.          0.\n",
      "  0.          0.          0.          0.          0.          0.          0.\n",
      "  0.          0.          0.          0.          0.          0.          0.\n",
      "  0.          0.          0.          0.          0.          0.          0.\n",
      "  0.          0.          0.          0.          0.          0.          0.\n",
      "  0.          0.          0.          0.          0.          0.          0.\n",
      "  0.        ]\n",
      "13119 0.997160044996\n",
      "68187 0.999643609166\n",
      "3 0.00147651997317\n",
      "6152 0.957285790668\n",
      "5 0.00247488352979\n",
      "13009 0.981094568459\n",
      "2 1.0\n",
      "0 0.0\n",
      "0 0.0\n",
      "0 0.0\n",
      "0 0.0\n",
      "0 0.0\n",
      "0 0.0\n",
      "0 0.0\n",
      "0 0.0\n",
      "0 0.0\n",
      "0 0.0\n",
      "0 0.0\n",
      "0 0.0\n",
      "0 0.0\n",
      "0 0.0\n",
      "0 0.0\n",
      "0 0.0\n",
      "0 0.0\n",
      "0 0.0\n",
      "0 0.0\n",
      "0 0.0\n",
      "0 0.0\n",
      "0 0.0\n",
      "0 0.0\n",
      "0 0.0\n",
      "0 0.0\n",
      "0 0.0\n",
      "0 0.0\n",
      "0 0.0\n",
      "0 0.0\n",
      "0 0.0\n",
      "0 0.0\n",
      "0 0.0\n",
      "0 0.0\n",
      "0 0.0\n",
      "0 0.0\n",
      "0 0.0\n",
      "0 0.0\n",
      "0 0.0\n",
      "0 0.0\n",
      "0 0.0\n",
      "0 0.0\n",
      "0 0.0\n",
      "0 0.0\n",
      "0 0.0\n",
      "0 0.0\n",
      "0 0.0\n",
      "0 0.0\n",
      "0 0.0\n",
      "0 0.0\n"
     ]
    }
   ],
   "source": [
    "print type(w[0]),w[0]\n",
    "for xindex,xv in  enumerate( x[0]):\n",
    "    print xv,weight4ind[xv]*w[0][xindex]"
   ]
  },
  {
   "cell_type": "code",
   "execution_count": 29,
   "metadata": {
    "collapsed": false
   },
   "outputs": [
    {
     "name": "stdout",
     "output_type": "stream",
     "text": [
      "1\n"
     ]
    }
   ],
   "source": [
    "\n",
    "# parameters\n",
    "import params\n",
    "params = params.params()\n",
    "params.rmpc = rmpc\n",
    "print params.rmpc\n"
   ]
  },
  {
   "cell_type": "code",
   "execution_count": 33,
   "metadata": {
    "collapsed": false
   },
   "outputs": [
    {
     "name": "stdout",
     "output_type": "stream",
     "text": [
      "[13119 68187     3  6152     5 13009     2     0     0     0     0     0\n",
      "     0     0     0     0     0     0     0     0     0     0     0     0\n",
      "     0     0     0     0     0     0     0     0     0     0     0     0\n",
      "     0     0     0     0     0     0     0     0     0     0     0     0\n",
      "     0     0     0     0     0     0     0     0]\n",
      "[ 0.99857903  0.99982178  0.03842551  0.97840983  0.0497482   0.99050218\n",
      "  1.          0.          0.          0.          0.          0.          0.\n",
      "  0.          0.          0.          0.          0.          0.          0.\n",
      "  0.          0.          0.          0.          0.          0.          0.\n",
      "  0.          0.          0.          0.          0.          0.          0.\n",
      "  0.          0.          0.          0.          0.          0.          0.\n",
      "  0.          0.          0.          0.          0.          0.          0.\n",
      "  0.          0.          0.          0.          0.          0.          0.\n",
      "  0.        ]\n"
     ]
    }
   ],
   "source": [
    "print x[0]\n",
    "print w[0]"
   ]
  },
  {
   "cell_type": "code",
   "execution_count": 34,
   "metadata": {
    "collapsed": true
   },
   "outputs": [],
   "source": [
    "\n",
    "# get SIF embedding\n",
    "embedding = SIF_embedding.SIF_embedding(We, x, w, params) # embedding[i,:] is the embedding for sentence i\n"
   ]
  },
  {
   "cell_type": "code",
   "execution_count": 35,
   "metadata": {
    "collapsed": false
   },
   "outputs": [
    {
     "name": "stdout",
     "output_type": "stream",
     "text": [
      "(1821, 300)\n"
     ]
    }
   ],
   "source": [
    "print embedding.shape"
   ]
  },
  {
   "cell_type": "code",
   "execution_count": null,
   "metadata": {
    "collapsed": true
   },
   "outputs": [],
   "source": []
  }
 ],
 "metadata": {
  "kernelspec": {
   "display_name": "Python 2",
   "language": "python",
   "name": "python2"
  },
  "language_info": {
   "codemirror_mode": {
    "name": "ipython",
    "version": 2
   },
   "file_extension": ".py",
   "mimetype": "text/x-python",
   "name": "python",
   "nbconvert_exporter": "python",
   "pygments_lexer": "ipython2",
   "version": "2.7.12"
  }
 },
 "nbformat": 4,
 "nbformat_minor": 1
}
